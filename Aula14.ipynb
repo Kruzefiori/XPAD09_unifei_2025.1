{
 "cells": [
  {
   "cell_type": "markdown",
   "metadata": {},
   "source": [
    "## Testes Baseados em Estatística Descritiva\n",
    "Nas próximas aulas veremos diferentes modelos de previsão como ARMA, ARIMA, ARIMA sazonal entre outros. Cada modelo aborda um tipo diferente de série temporal. Por esta razão, para selecionar um modelo apropriado precisamos entender melhor os dados. A estatística descritiva serve exatamente para isso.\n",
    "\n",
    "Nesta aula aprenderemos como determinar se uma série temporal é *estacionária*, se é *independente* e se duas séries demonstram *correlação* e/ou *causalidade*."
   ]
  },
  {
   "cell_type": "markdown",
   "metadata": {},
   "source": [
    "Vamos começar fazendo os imports e carregando os datasets que serão utilizados."
   ]
  },
  {
   "cell_type": "code",
   "execution_count": 2,
   "metadata": {},
   "outputs": [],
   "source": [
    "import pandas as pd\n",
    "import numpy as np\n",
    "from statsmodels.tsa.stattools import adfuller, grangercausalitytests\n",
    "from statsmodels.tools.eval_measures import mse, rmse, meanabs\n",
    "%matplotlib inline\n",
    "\n",
    "# Ignorar warnings \n",
    "import warnings\n",
    "warnings.filterwarnings(\"ignore\")\n",
    "\n",
    "# Load a seasonal dataset\n",
    "df1 = pd.read_csv('airline_passengers.csv',index_col='Month',parse_dates=True)\n",
    "df1.index.freq = 'MS'\n",
    "\n",
    "# Load a nonseasonal dataset\n",
    "df2 = pd.read_csv('DailyTotalFemaleBirths.csv',index_col='Date',parse_dates=True)\n",
    "df2.index.freq = 'D'"
   ]
  },
  {
   "cell_type": "markdown",
   "metadata": {},
   "source": [
    "### Teste de Estacionariedade\n",
    "Uma série temporal é <em>estacionária</em> se a média e a variância são fixas entre quaisquer dois pontos equidistantes. Ou seja, não importa onde você faça suas observações, os resultados deverão ser os mesmos. Uma série temporal que mostra sazonalidade <em>não</em> é estacionária.\n",
    "\n",
    "Um teste de estacionariedade geralmente envolve um teste de hipótese de <a href='https://en.wikipedia.org/wiki/Unit_root_test'>raiz unitária</a>, onde a hipótese nula $H_0$ é que a série é <em >não estacionária</em> e contém uma raiz unitária. A hipótese alternativa $H_1$ suporta a estacionariedade. O <a href='https://en.wikipedia.org/wiki/Augmented_Dickey-Fuller_test'>Dikey-Fuller aumentado</a> e o <a href='https://en.wikipedia.org/wiki/KPSS_test Os testes '>Kwiatkowski-Phillips-Schmidt-Shin</a> são testes de estacionariedade."
   ]
  },
  {
   "cell_type": "markdown",
   "metadata": {},
   "source": [
    "### Teste Dikey-Fuller Aumentado\n",
    "Para determinar se uma série é estacionária, podemos usar o <a href='https://en.wikipedia.org/wiki/Augmented_Dickey-Fuller_test'>teste Dickey-Fuller aumentado</a>. Neste teste, a hipótese nula afirma que $\\phi = 1$ (isso também é chamado de teste de unidade). O teste retorna diversas estatísticas que veremos em instantes. Nosso foco está no *p value*. Um *p value* pequeno ($p<0,05$) indica forte evidência contra a hipótese nula.\n",
    "\n",
    "Para demonstrar, usaremos um conjunto de dados que sabemos que <em>não</em> é estacionário (airline passengers). Primeiro, vamos representar graficamente os dados junto com uma média móvel e desvio padrão de 12 meses:"
   ]
  },
  {
   "cell_type": "code",
   "execution_count": 24,
   "metadata": {},
   "outputs": [],
   "source": [
    "df1['12-month-MMS'] = df1['Thousands of Passengers'].rolling(window=12).mean()\n",
    "df1['12-month-DP'] = df1['Thousands of Passengers'].rolling(window=12).std()\n",
    "\n",
    "df1[['Thousands of Passengers','12-month-MMS','12-month-DP']].plot();"
   ]
  },
  {
   "cell_type": "markdown",
   "metadata": {},
   "source": [
    "Observamos que este conjunto de dados não só é sazonal com uma clara tendência ascendente, como também o desvio padrão aumenta ao longo do tempo.\n",
    "\n",
    "Vamos fazer o teste de Dickey-Fuller aumentado e observar os resultados."
   ]
  },
  {
   "cell_type": "code",
   "execution_count": 25,
   "metadata": {},
   "outputs": [
    {
     "name": "stdout",
     "output_type": "stream",
     "text": [
      "Teste Dickey-Fuller aumentado para o dataset airline passengers\n"
     ]
    },
    {
     "data": {
      "text/plain": [
       "(0.8153688792060597,\n",
       " 0.9918802434376411,\n",
       " 13,\n",
       " 130,\n",
       " {'1%': -3.4816817173418295,\n",
       "  '5%': -2.8840418343195267,\n",
       "  '10%': -2.578770059171598},\n",
       " 996.692930839019)"
      ]
     },
     "execution_count": 25,
     "metadata": {},
     "output_type": "execute_result"
    }
   ],
   "source": [
    "print('Teste Dickey-Fuller aumentado para o dataset airline passengers')\n",
    "dftest = adfuller(df1['Thousands of Passengers'],autolag='AIC')\n",
    "dftest"
   ]
  },
  {
   "cell_type": "markdown",
   "metadata": {},
   "source": [
    "Vamos acrescentar legendas para ficar mais fácil de interpretar os resultados do teste."
   ]
  },
  {
   "cell_type": "code",
   "execution_count": 26,
   "metadata": {},
   "outputs": [
    {
     "name": "stdout",
     "output_type": "stream",
     "text": [
      "Teste Dickey-Fuller aumentado para o dataset airline passengers\n",
      "ADF estatística de teste      0.815369\n",
      "p-value                       0.991880\n",
      "# lags usedos                13.000000\n",
      "# observações               130.000000\n",
      "Valor crítico (1%)           -3.481682\n",
      "Valor crítico (5%)           -2.884042\n",
      "Valor crítico (10%)          -2.578770\n",
      "dtype: float64\n"
     ]
    }
   ],
   "source": [
    "print('Teste Dickey-Fuller aumentado para o dataset airline passengers')\n",
    "\n",
    "dfout = pd.Series(dftest[0:4],index=['ADF estatística de teste','p-value','# lags usedos','# observações'])\n",
    "\n",
    "for key,val in dftest[4].items():\n",
    "    dfout[f'Valor crítico ({key})']=val\n",
    "print(dfout)"
   ]
  },
  {
   "cell_type": "markdown",
   "metadata": {},
   "source": [
    "Aqui temos um p-value muito alto de 0,99, que fornece evidências fracas contra a hipótese nula e, portanto, <em>não rejeitamos</em> a hipótese nula e decidimos que nosso conjunto de dados não é estacionário. \\\n",
    "Nota: em estatística, ao não “aceitarmos” uma hipótese nula, nada é verdadeiramente provado, apenas falhamos em rejeitá-la. \\\n",
    "Agora vamos aplicar o teste ADF a dados estacionários com o conjunto de dados Daily Total Female Births."
   ]
  },
  {
   "cell_type": "code",
   "execution_count": 27,
   "metadata": {},
   "outputs": [],
   "source": [
    "df2['30-Day-MMS'] = df2['Births'].rolling(window=30).mean()\n",
    "df2['30-Day-DP'] = df2['Births'].rolling(window=30).std()\n",
    "\n",
    "df2[['Births','30-Day-MMS','30-Day-DP']].plot();"
   ]
  },
  {
   "cell_type": "code",
   "execution_count": 28,
   "metadata": {},
   "outputs": [
    {
     "name": "stdout",
     "output_type": "stream",
     "text": [
      "Teste Dickey-Fuller aumentado para o dataset Daily Female Births\n",
      "Estatística de teste ADF     -4.808291\n",
      "p-value                       0.000052\n",
      "# lags usados                 6.000000\n",
      "# observações               358.000000\n",
      "Valor crítico (1%)           -3.448749\n",
      "Valor crítico (5%)           -2.869647\n",
      "Valor crítico (10%)          -2.571089\n",
      "dtype: float64\n"
     ]
    }
   ],
   "source": [
    "print('Teste Dickey-Fuller aumentado para o dataset Daily Female Births')\n",
    "dftest = adfuller(df2['Births'],autolag='AIC')\n",
    "dfout = pd.Series(dftest[0:4],index=['Estatística de teste ADF','p-value','# lags usados','# observações'])\n",
    "\n",
    "for key,val in dftest[4].items():\n",
    "    dfout[f'Valor crítico ({key})']=val\n",
    "print(dfout)"
   ]
  },
  {
   "cell_type": "markdown",
   "metadata": {},
   "source": [
    "Neste caso, o p-value é muito baixo: 0,000052; o que nos leva a rejeitar a hipótese nula. Este conjunto de dados parece não ter raiz unitária e é estacionário."
   ]
  },
  {
   "cell_type": "markdown",
   "metadata": {},
   "source": [
    "### Função para facilitar a tomada de decisão baseada no teste ADF\n",
    "Como o usaremos com frequência nas próximas previsões, vamos definir uma função que possamos copiar em notebooks futuros para executar o teste Dickey-Fuller aumentado. Lembre-se que ainda teremos que importar <tt>adfuller</tt> no topo do nosso notebook."
   ]
  },
  {
   "cell_type": "code",
   "execution_count": 29,
   "metadata": {},
   "outputs": [],
   "source": [
    "from statsmodels.tsa.stattools import adfuller\n",
    "\n",
    "def adf_test(series,title=''):\n",
    "    \"\"\"\n",
    "    Param: série temporal e um título opcional, retorna um relatório ADF\n",
    "\n",
    "    \"\"\"\n",
    "    print(f'Teste Dickey-Fuller Aumentado: {title}')\n",
    "    result = adfuller(series.dropna(),autolag='AIC') \n",
    "    \n",
    "    labels = ['Estatística de teste ADF','p-value','# lags usados','# observações']\n",
    "    out = pd.Series(result[0:4],index=labels)\n",
    "\n",
    "    for key,val in result[4].items():\n",
    "        out[f'Valor crítico ({key})']=val\n",
    "        \n",
    "    print(out.to_string())          # .to_string() remove a linha \"dtype: float64\"\n",
    "    \n",
    "    if result[1] <= 0.05:\n",
    "        print(\"Evidência forte contra a hipótese nula.\")\n",
    "        print(\"Rejeitar a hipótese nula.\")\n",
    "        print(\"Dados não tem raiz unitária. Série estacionária.\")\n",
    "    else:\n",
    "        print(\"Evidência fraca contra a hipótese nula.\")\n",
    "        print(\"Falha em rejeitar a hipótese nula.\")\n",
    "        print(\"Dados tem uma raiz unitária. Série não estacionária.\")"
   ]
  },
  {
   "cell_type": "code",
   "execution_count": 30,
   "metadata": {},
   "outputs": [
    {
     "name": "stdout",
     "output_type": "stream",
     "text": [
      "Teste Dickey-Fuller Aumentado: Airline Passengers\n",
      "Estatística de teste ADF      0.815369\n",
      "p-value                       0.991880\n",
      "# lags usados                13.000000\n",
      "# observações               130.000000\n",
      "Valor crítico (1%)           -3.481682\n",
      "Valor crítico (5%)           -2.884042\n",
      "Valor crítico (10%)          -2.578770\n",
      "Evidência fraca contra a hipótese nula.\n",
      "Falha em rejeitar a hipótese nula.\n",
      "Dados tem uma raiz unitária. Série não estacionária.\n",
      "\n",
      "Teste Dickey-Fuller Aumentado: Daily Female Births\n",
      "Estatística de teste ADF     -4.808291\n",
      "p-value                       0.000052\n",
      "# lags usados                 6.000000\n",
      "# observações               358.000000\n",
      "Valor crítico (1%)           -3.448749\n",
      "Valor crítico (5%)           -2.869647\n",
      "Valor crítico (10%)          -2.571089\n",
      "Evidência forte contra a hipótese nula.\n",
      "Rejeitar a hipótese nula.\n",
      "Dados não tem raiz unitária. Série estacionária.\n"
     ]
    }
   ],
   "source": [
    "adf_test(df1['Thousands of Passengers'], 'Airline Passengers')\n",
    "print()\n",
    "adf_test(df2['Births'], 'Daily Female Births')"
   ]
  },
  {
   "cell_type": "markdown",
   "metadata": {},
   "source": [
    "### Teste de Causalidade de Granger\n",
    "O <a href='https://en.wikipedia.org/wiki/Granger_causality'>Teste de Causalidade de Granger</a> é um teste de hipótese para determinar se uma série temporal é útil na previsão de outra. Embora seja bastante fácil medir correlações entre séries - quando uma sobe, a outra sobe e vice-versa - outra coisa é observar mudanças em uma série correlacionadas com mudanças em outra após um período de tempo consistente. Isto pode indicar a presença de causalidade, de que mudanças na primeira série influenciaram o comportamento da segunda. Contudo, também pode acontecer que ambas as séries sejam afetadas por algum terceiro fator, apenas a taxas diferentes. Ainda assim, pode ser útil se as mudanças numa série puderem prever mudanças futuras noutra, quer haja causalidade ou não. Neste caso, dizemos que uma série “causa Granger” outra.\n",
    "\n",
    "No caso de duas séries, $y$ e $x$, a hipótese nula é que valores defasados ​​de $x$ <em>não</em> explicam variações em $y$.<br>\n",
    "Em outras palavras, assume que $x_t$ não causa Granger $y_t$.\n",
    "\n",
    "Neste exemplo, usaremos o arquivo samples.csv, onde as colunas 'a' e 'd' são conjuntos de dados estacionários."
   ]
  },
  {
   "cell_type": "code",
   "execution_count": 31,
   "metadata": {},
   "outputs": [
    {
     "data": {
      "text/html": [
       "<div>\n",
       "<style scoped>\n",
       "    .dataframe tbody tr th:only-of-type {\n",
       "        vertical-align: middle;\n",
       "    }\n",
       "\n",
       "    .dataframe tbody tr th {\n",
       "        vertical-align: top;\n",
       "    }\n",
       "\n",
       "    .dataframe thead th {\n",
       "        text-align: right;\n",
       "    }\n",
       "</style>\n",
       "<table border=\"1\" class=\"dataframe\">\n",
       "  <thead>\n",
       "    <tr style=\"text-align: right;\">\n",
       "      <th></th>\n",
       "      <th>a</th>\n",
       "      <th>b</th>\n",
       "      <th>c</th>\n",
       "      <th>d</th>\n",
       "    </tr>\n",
       "  </thead>\n",
       "  <tbody>\n",
       "    <tr>\n",
       "      <th>1950-01-01</th>\n",
       "      <td>36</td>\n",
       "      <td>27</td>\n",
       "      <td>0</td>\n",
       "      <td>67</td>\n",
       "    </tr>\n",
       "    <tr>\n",
       "      <th>1950-02-01</th>\n",
       "      <td>58</td>\n",
       "      <td>22</td>\n",
       "      <td>3</td>\n",
       "      <td>31</td>\n",
       "    </tr>\n",
       "    <tr>\n",
       "      <th>1950-03-01</th>\n",
       "      <td>61</td>\n",
       "      <td>17</td>\n",
       "      <td>5</td>\n",
       "      <td>67</td>\n",
       "    </tr>\n",
       "    <tr>\n",
       "      <th>1950-04-01</th>\n",
       "      <td>37</td>\n",
       "      <td>15</td>\n",
       "      <td>8</td>\n",
       "      <td>47</td>\n",
       "    </tr>\n",
       "    <tr>\n",
       "      <th>1950-05-01</th>\n",
       "      <td>66</td>\n",
       "      <td>13</td>\n",
       "      <td>8</td>\n",
       "      <td>62</td>\n",
       "    </tr>\n",
       "  </tbody>\n",
       "</table>\n",
       "</div>"
      ],
      "text/plain": [
       "             a   b  c   d\n",
       "1950-01-01  36  27  0  67\n",
       "1950-02-01  58  22  3  31\n",
       "1950-03-01  61  17  5  67\n",
       "1950-04-01  37  15  8  47\n",
       "1950-05-01  66  13  8  62"
      ]
     },
     "execution_count": 31,
     "metadata": {},
     "output_type": "execute_result"
    }
   ],
   "source": [
    "df3 = pd.read_csv('samples.csv',index_col=0,parse_dates=True)\n",
    "df3.index.freq = 'MS'\n",
    "df3.head()"
   ]
  },
  {
   "cell_type": "code",
   "execution_count": null,
   "metadata": {},
   "outputs": [],
   "source": []
  },
  {
   "cell_type": "markdown",
   "metadata": {},
   "source": [
    "É difícil observar a partir da figura, mas <tt>df['d']</tt> prevê quase perfeitamente o comportamento de <tt>df['a']</tt>.<br>\n",
    "Para ver isso mais claramente, avançaremos <tt>df['d']</tt> dois períodos."
   ]
  },
  {
   "cell_type": "code",
   "execution_count": null,
   "metadata": {},
   "outputs": [],
   "source": []
  },
  {
   "cell_type": "markdown",
   "metadata": {},
   "source": [
    "Vamos agora executar o teste. \\\n",
    "A função recebe um array 2D [y,x] e um número máximo de defasagens (lags) para testar em x. Aqui nosso y é a coluna 'a' e x é a coluna 'd'. Usaremos maxlags = 3."
   ]
  },
  {
   "cell_type": "code",
   "execution_count": null,
   "metadata": {},
   "outputs": [],
   "source": []
  },
  {
   "cell_type": "markdown",
   "metadata": {},
   "source": [
    "Valores extremamente baixos de p, como vemos no lag 2, apontam a causalidade. \\\n",
    "Em seguida, vamos comparar dois conjuntos de dados que não são nada semelhantes, 'b' e 'd'."
   ]
  },
  {
   "cell_type": "code",
   "execution_count": null,
   "metadata": {},
   "outputs": [],
   "source": []
  },
  {
   "cell_type": "markdown",
   "metadata": {},
   "source": [
    "Aqui não temos valores de p tendendo a zero, o que mostra que não há causalidade nessas duas séries temporais."
   ]
  },
  {
   "cell_type": "markdown",
   "metadata": {},
   "source": [
    "### Avaliação de Precisão\n",
    "Dois cálculos relacionados à regressão linear são <a href='https://en.wikipedia.org/wiki/Mean_squared_error'><strong>erro quadrático médio</strong></a> (MSE) e <a href=' https://en.wikipedia.org/wiki/Root-mean-square_deviation'><strong>raiz do erro quadrático médio</strong></a> (RMSE).\n",
    "\n",
    "A fórmula do erro quadrático médio é <br><br>\n",
    "&nbsp;&nbsp;&nbsp;&nbsp;$RMSE = \\sqrt{MSE} = \\sqrt{{\\frac 1 L} \\sum\\limits_{l=1}^L (y_{T+l} - \\hat y_{T+l})^2}$<br><br>\n",
    "A vantagem do RMSE é que ele é expresso nas mesmas unidades que os dados. <br><br>\n",
    "\n",
    "Um método semelhante ao RMSE é o <a href='https://en.wikipedia.org/wiki/Mean_absolute_error'><strong>erro absoluto médio</strong></a> (MAE), que é a média das magnitudes do erro, dadas como<br><br>\n",
    "\n",
    "&nbsp;&nbsp;&nbsp;&nbsp;$MAE = {\\frac 1 L} \\sum\\limits_{l=1}^L \\mid{y_{T+l}} - \\hat y_{T+l}\\mid$<br><br>\n",
    "\n",
    "Um método de previsão que minimize o MAE levará a previsões da mediana, enquanto a minimização do RMSE levará a previsões da média."
   ]
  },
  {
   "cell_type": "code",
   "execution_count": 32,
   "metadata": {},
   "outputs": [],
   "source": [
    "import numpy as np\n",
    "import pandas as pd\n",
    "%matplotlib inline\n",
    "np.random.seed(42)\n",
    "df = pd.DataFrame(np.random.randint(20,30,(50,2)),columns=['teste','previsão'])\n",
    "df.plot(figsize=(12,4));"
   ]
  },
  {
   "cell_type": "code",
   "execution_count": 33,
   "metadata": {},
   "outputs": [
    {
     "name": "stdout",
     "output_type": "stream",
     "text": [
      "Modelo  MSE: 17.020\n",
      "Modelo RMSE: 4.126\n",
      "Modelo  MAE: 3.540\n"
     ]
    }
   ],
   "source": [
    "MSE = mse(df['teste'],df['previsão'])\n",
    "RMSE = rmse(df['teste'],df['previsão'])\n",
    "MAE = meanabs(df['teste'],df['previsão'])\n",
    "\n",
    "print(f'Modelo  MSE: {MSE:.3f}')\n",
    "print(f'Modelo RMSE: {RMSE:.3f}')\n",
    "print(f'Modelo  MAE: {MAE:.3f}')"
   ]
  },
  {
   "cell_type": "markdown",
   "metadata": {},
   "source": [
    "### AIC / BIC\n",
    "Testes mais sofisticados incluem o <a href='https://en.wikipedia.org/wiki/Akaike_information_criterion'><strong>critério de informação Akaike</strong></a> (AIC) e o <a href='https ://en.wikipedia.org/wiki/Bayesian_information_criterion'><strong>Critério de informação bayesiano</strong></a> (BIC).\n",
    "\n",
    "A AIC avalia uma coleção de modelos e estima a qualidade de cada modelo em relação aos demais. Penalidades são fornecidas para o número de parâmetros usados ​​em um esforço para impedir o sobreajuste. Quanto mais baixos o AIC e o BIC, melhor deverá ser o modelo na previsão.\n",
    "\n",
    "Estas funções estão disponíveis como:\n",
    "\n",
    "&nbsp;&nbsp;&nbsp;&nbsp;<tt>from from statsmodels.tools.eval_measures import aic, bic</tt>\n",
    "\n",
    "mas raramente os computamos sozinhos, pois eles estão integrados em muitas das ferramentas de modelos estatísticos que usamos."
   ]
  },
  {
   "cell_type": "markdown",
   "metadata": {},
   "source": [
    "### Expondo sazonalidade utilizando gráficos mensais e quadrimestrais\n",
    "Statsmodels possui duas funções de plotagem que agrupam os dados por mês e por trimestre. Observe que se os dados aparecerem como meses, você deverá empregar <em>reamostragem</em> com uma função agregada antes de executar um gráfico trimestral. Esses gráficos retornam um objeto <tt>matplotlib.Figure</tt>.\n",
    "<h3>Métodos de plotagem relacionados:</h3>\n",
    "<tt><forte>\n",
    "<a href='https://www.statsmodels.org/stable/generated/statsmodels.graphics.tsaplots.month_plot.html'>tsaplots.month_plot</a></strong><font color=black>(x) </font>&nbsp;&nbsp;&nbsp;&nbsp;Gráfico sazonal de dados mensais<br>\n",
    "<forte>\n",
    "<a href='https://www.statsmodels.org/stable/generated/statsmodels.graphics.tsaplots.quarter_plot.html'>tsaplots.quarter_plot</a></strong><font color=black>(x) </font>&nbsp;&nbsp;Gráfico sazonal de dados trimestrais</tt>"
   ]
  },
  {
   "cell_type": "code",
   "execution_count": 34,
   "metadata": {},
   "outputs": [
    {
     "data": {
      "text/html": [
       "<div>\n",
       "<style scoped>\n",
       "    .dataframe tbody tr th:only-of-type {\n",
       "        vertical-align: middle;\n",
       "    }\n",
       "\n",
       "    .dataframe tbody tr th {\n",
       "        vertical-align: top;\n",
       "    }\n",
       "\n",
       "    .dataframe thead th {\n",
       "        text-align: right;\n",
       "    }\n",
       "</style>\n",
       "<table border=\"1\" class=\"dataframe\">\n",
       "  <thead>\n",
       "    <tr style=\"text-align: right;\">\n",
       "      <th></th>\n",
       "      <th>Thousands of Passengers</th>\n",
       "    </tr>\n",
       "    <tr>\n",
       "      <th>Month</th>\n",
       "      <th></th>\n",
       "    </tr>\n",
       "  </thead>\n",
       "  <tbody>\n",
       "    <tr>\n",
       "      <th>1949-01-01</th>\n",
       "      <td>112</td>\n",
       "    </tr>\n",
       "    <tr>\n",
       "      <th>1949-02-01</th>\n",
       "      <td>118</td>\n",
       "    </tr>\n",
       "    <tr>\n",
       "      <th>1949-03-01</th>\n",
       "      <td>132</td>\n",
       "    </tr>\n",
       "    <tr>\n",
       "      <th>1949-04-01</th>\n",
       "      <td>129</td>\n",
       "    </tr>\n",
       "    <tr>\n",
       "      <th>1949-05-01</th>\n",
       "      <td>121</td>\n",
       "    </tr>\n",
       "  </tbody>\n",
       "</table>\n",
       "</div>"
      ],
      "text/plain": [
       "            Thousands of Passengers\n",
       "Month                              \n",
       "1949-01-01                      112\n",
       "1949-02-01                      118\n",
       "1949-03-01                      132\n",
       "1949-04-01                      129\n",
       "1949-05-01                      121"
      ]
     },
     "execution_count": 34,
     "metadata": {},
     "output_type": "execute_result"
    }
   ],
   "source": [
    "import pandas as pd\n",
    "import numpy as np\n",
    "%matplotlib inline\n",
    "\n",
    "df = pd.read_csv('airline_passengers.csv',index_col='Month',parse_dates=True)\n",
    "df.index.freq = 'MS'\n",
    "df.head()"
   ]
  },
  {
   "cell_type": "code",
   "execution_count": null,
   "metadata": {},
   "outputs": [],
   "source": []
  },
  {
   "cell_type": "code",
   "execution_count": null,
   "metadata": {},
   "outputs": [],
   "source": []
  },
  {
   "cell_type": "markdown",
   "metadata": {},
   "source": [
    "Vamos comparar com nosso conjunto de dados <tt>macrodata.csv</tt> não sazonal:"
   ]
  },
  {
   "cell_type": "code",
   "execution_count": null,
   "metadata": {},
   "outputs": [],
   "source": []
  },
  {
   "cell_type": "markdown",
   "metadata": {},
   "source": [
    "\n",
    "### Exercício 01\n",
    "Considere a série temporal contida em \"exercicio01.xlsx\". Plote o gráfico correspondente e informe se a série é ou não estacionária."
   ]
  },
  {
   "cell_type": "code",
   "execution_count": null,
   "metadata": {},
   "outputs": [],
   "source": []
  },
  {
   "cell_type": "markdown",
   "metadata": {},
   "source": [
    "### Exercício 02\n",
    "Considere a série temporal contida em \"exercicio02.xlsx\". Plote o gráfico correspondente e informe se a série é ou não estacionária."
   ]
  },
  {
   "cell_type": "code",
   "execution_count": null,
   "metadata": {},
   "outputs": [],
   "source": []
  },
  {
   "cell_type": "markdown",
   "metadata": {},
   "source": [
    "### Exercício 03\n",
    "Neste exercício você deve utilizar o dataset \"chicken_egg\", que mostra a quantidade de galinhas e ovos produzidos entre os anos de 1930 e 1983 numa dada localidade.\n",
    "\n",
    "A) Verifique se o número de ovos pode ser usado para prever o número de galinhas no futuro. (Ovos Granger Cause Galinhas).\n",
    "\n",
    "B) Verifique se o número de galinhas pode ser usado para prever o número de ovos no futuro. (Galinhas Granger Cause Ovos)."
   ]
  },
  {
   "cell_type": "code",
   "execution_count": 35,
   "metadata": {},
   "outputs": [
    {
     "data": {
      "text/html": [
       "<div>\n",
       "<style scoped>\n",
       "    .dataframe tbody tr th:only-of-type {\n",
       "        vertical-align: middle;\n",
       "    }\n",
       "\n",
       "    .dataframe tbody tr th {\n",
       "        vertical-align: top;\n",
       "    }\n",
       "\n",
       "    .dataframe thead th {\n",
       "        text-align: right;\n",
       "    }\n",
       "</style>\n",
       "<table border=\"1\" class=\"dataframe\">\n",
       "  <thead>\n",
       "    <tr style=\"text-align: right;\">\n",
       "      <th></th>\n",
       "      <th>chicken</th>\n",
       "      <th>egg</th>\n",
       "    </tr>\n",
       "    <tr>\n",
       "      <th>year</th>\n",
       "      <th></th>\n",
       "      <th></th>\n",
       "    </tr>\n",
       "  </thead>\n",
       "  <tbody>\n",
       "    <tr>\n",
       "      <th>1930-01-01</th>\n",
       "      <td>468491</td>\n",
       "      <td>3581</td>\n",
       "    </tr>\n",
       "    <tr>\n",
       "      <th>1931-01-01</th>\n",
       "      <td>449743</td>\n",
       "      <td>3532</td>\n",
       "    </tr>\n",
       "    <tr>\n",
       "      <th>1932-01-01</th>\n",
       "      <td>436815</td>\n",
       "      <td>3327</td>\n",
       "    </tr>\n",
       "    <tr>\n",
       "      <th>1933-01-01</th>\n",
       "      <td>444523</td>\n",
       "      <td>3255</td>\n",
       "    </tr>\n",
       "    <tr>\n",
       "      <th>1934-01-01</th>\n",
       "      <td>433937</td>\n",
       "      <td>3156</td>\n",
       "    </tr>\n",
       "  </tbody>\n",
       "</table>\n",
       "</div>"
      ],
      "text/plain": [
       "            chicken   egg\n",
       "year                     \n",
       "1930-01-01   468491  3581\n",
       "1931-01-01   449743  3532\n",
       "1932-01-01   436815  3327\n",
       "1933-01-01   444523  3255\n",
       "1934-01-01   433937  3156"
      ]
     },
     "execution_count": 35,
     "metadata": {},
     "output_type": "execute_result"
    }
   ],
   "source": [
    "#define URL where dataset is located\n",
    "url = \"https://raw.githubusercontent.com/Statology/Miscellaneous/main/chicken_egg.txt\"\n",
    "\n",
    "#read in dataset as pandas DataFrame\n",
    "df_ex3 = pd.read_csv(url, sep=\"  \", index_col=0, parse_dates=True)\n",
    "\n",
    "df_ex3.head()"
   ]
  },
  {
   "cell_type": "markdown",
   "metadata": {},
   "source": [
    "Parte A \\\n",
    "H0: a quantidade de ovos NÃO está relacionada com a quantidade de galinhas no futuro \\\n",
    "H1: a quantidade de ovos está relacionada com a quantidade de galinhas no futuro\n",
    "\n",
    "Em outras palavras: a quantidade atual de ovos pode ser usada para prever a quantidade futura de galinhas?"
   ]
  },
  {
   "cell_type": "code",
   "execution_count": null,
   "metadata": {},
   "outputs": [],
   "source": []
  },
  {
   "cell_type": "markdown",
   "metadata": {},
   "source": [
    "Parte B \\\n",
    "H0: a quantidade de galinhas NÃO está relacionada com a quantidade de ovos no futuro \\\n",
    "H1: a quantidade de galinhas está relacionada com a quantidade de ovos no futuro\n",
    "\n",
    "Em outras palavras: a quantidade atual de galinhas pode ser usada para prever a quantidade futura de ovos?"
   ]
  },
  {
   "cell_type": "code",
   "execution_count": null,
   "metadata": {},
   "outputs": [],
   "source": []
  }
 ],
 "metadata": {
  "kernelspec": {
   "display_name": "base",
   "language": "python",
   "name": "python3"
  },
  "language_info": {
   "codemirror_mode": {
    "name": "ipython",
    "version": 3
   },
   "file_extension": ".py",
   "mimetype": "text/x-python",
   "name": "python",
   "nbconvert_exporter": "python",
   "pygments_lexer": "ipython3",
   "version": "3.11.3"
  }
 },
 "nbformat": 4,
 "nbformat_minor": 2
}
